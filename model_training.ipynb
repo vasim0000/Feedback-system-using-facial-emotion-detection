{
 "cells": [
  {
   "cell_type": "code",
   "execution_count": 1,
   "metadata": {},
   "outputs": [],
   "source": [
    "import pandas as pd\n",
    "import numpy as np\n",
    "import cv2\n",
    "from tensorflow import keras\n",
    "import tensorflow as tf\n",
    "import os"
   ]
  },
  {
   "cell_type": "code",
   "execution_count": 2,
   "metadata": {},
   "outputs": [],
   "source": [
    "import matplotlib.pyplot as plt"
   ]
  },
  {
   "cell_type": "code",
   "execution_count": 3,
   "metadata": {},
   "outputs": [],
   "source": [
    "from sklearn.utils import shuffle\n",
    "from sklearn.model_selection import train_test_split"
   ]
  },
  {
   "cell_type": "code",
   "execution_count": 4,
   "metadata": {},
   "outputs": [],
   "source": [
    "import tensorflow.keras.utils as utils"
   ]
  },
  {
   "cell_type": "code",
   "execution_count": 5,
   "metadata": {},
   "outputs": [],
   "source": [
    "from tensorflow.keras.models import Sequential\n",
    "from tensorflow.keras.layers import Dense , Activation , Dropout ,Flatten,  MaxPooling2D, Conv2D"
   ]
  },
  {
   "cell_type": "code",
   "execution_count": 6,
   "metadata": {},
   "outputs": [],
   "source": [
    " data_path = 'data/ckplus/CK+48'"
   ]
  },
  {
   "cell_type": "code",
   "execution_count": 7,
   "metadata": {},
   "outputs": [
    {
     "name": "stdout",
     "output_type": "stream",
     "text": [
      "7 classes are ['anger', 'contempt', 'disgust', 'fear', 'happy', 'sadness', 'surprise']\n"
     ]
    }
   ],
   "source": [
    "data_dir_list = os.listdir(data_path)\n",
    "#data_dir_list\n",
    "print(str(len(data_dir_list))+' classes are',data_dir_list)"
   ]
  },
  {
   "cell_type": "code",
   "execution_count": null,
   "metadata": {},
   "outputs": [],
   "source": []
  },
  {
   "cell_type": "code",
   "execution_count": 8,
   "metadata": {},
   "outputs": [
    {
     "name": "stdout",
     "output_type": "stream",
     "text": [
      "number of images in anger =  135\n",
      "number of images in contempt =  54\n",
      "number of images in disgust =  177\n",
      "number of images in fear =  75\n",
      "number of images in happy =  207\n",
      "number of images in sadness =  84\n",
      "number of images in surprise =  249\n"
     ]
    }
   ],
   "source": [
    "img_data = []\n",
    "for dataset in data_dir_list:\n",
    "    img_list = os.listdir(data_path+'/'+dataset)\n",
    "    print('number of images in '+str(dataset)+' = ',len(img_list))\n",
    "    for img in img_list:\n",
    "        img = cv2.imread(data_path+'/'+dataset+'/'+img)\n",
    "        \n",
    "        img = cv2.resize(img,(48,48))\n",
    "        \n",
    "        img_data.append(img)\n",
    "        "
   ]
  },
  {
   "cell_type": "code",
   "execution_count": 9,
   "metadata": {
    "scrolled": true
   },
   "outputs": [
    {
     "data": {
      "text/plain": [
       "(48, 48, 3)"
      ]
     },
     "execution_count": 9,
     "metadata": {},
     "output_type": "execute_result"
    }
   ],
   "source": [
    "img_data = np.array(img_data)\n",
    "img_data[0].shape"
   ]
  },
  {
   "cell_type": "code",
   "execution_count": 10,
   "metadata": {},
   "outputs": [
    {
     "data": {
      "text/plain": [
       "(981, 48, 48, 3)"
      ]
     },
     "execution_count": 10,
     "metadata": {},
     "output_type": "execute_result"
    }
   ],
   "source": [
    "img_data.shape"
   ]
  },
  {
   "cell_type": "code",
   "execution_count": 11,
   "metadata": {},
   "outputs": [],
   "source": [
    "# Normalization (essential for neural nets)\n",
    "img_data = img_data.astype('float32')\n",
    "img_data = img_data/255"
   ]
  },
  {
   "cell_type": "code",
   "execution_count": 12,
   "metadata": {},
   "outputs": [
    {
     "data": {
      "text/plain": [
       "(981, 48, 48, 3)"
      ]
     },
     "execution_count": 12,
     "metadata": {},
     "output_type": "execute_result"
    }
   ],
   "source": [
    "img_data.shape"
   ]
  },
  {
   "cell_type": "code",
   "execution_count": 13,
   "metadata": {},
   "outputs": [
    {
     "name": "stdout",
     "output_type": "stream",
     "text": [
      "shape of image (48, 48)\n",
      "num of images  981\n"
     ]
    }
   ],
   "source": [
    "print('shape of image', (img_data.shape[1],img_data.shape[2]))\n",
    "print('num of images ', img_data.shape[0])"
   ]
  },
  {
   "cell_type": "code",
   "execution_count": 14,
   "metadata": {},
   "outputs": [],
   "source": [
    "label_text = {0:'anger', 1:'contempt', 2: 'contempt',\n",
    "                         3:'fear', 4:'happiness',\n",
    "                         5: 'sadness', 6: 'surprise'}"
   ]
  },
  {
   "cell_type": "code",
   "execution_count": 15,
   "metadata": {},
   "outputs": [],
   "source": [
    "labels = np.ones((img_data.shape[0],),dtype='int64')"
   ]
  },
  {
   "cell_type": "code",
   "execution_count": 16,
   "metadata": {},
   "outputs": [],
   "source": [
    "labels[0:134]=0 #135\n",
    "labels[135:188]=1 #54\n",
    "labels[189:365]=2 #177\n",
    "\n",
    "labels[366:440]=3 #75\n",
    "labels[441:647]=4 #207\n",
    "\n",
    "labels[648:731]=5 #84\n",
    "labels[732:980]=6 #249"
   ]
  },
  {
   "cell_type": "code",
   "execution_count": 17,
   "metadata": {},
   "outputs": [],
   "source": [
    "def plotImages(images_arr):\n",
    "    fig,axes = plt.subplots(1,1,figsize=(5,5))\n",
    "#     axes = axes.flatten()\n",
    "    axes.imshow(images_arr)\n",
    "    axes.axis('off')\n",
    "    plt.tight_layout()\n",
    "    plt.show()\n",
    "    "
   ]
  },
  {
   "cell_type": "code",
   "execution_count": 18,
   "metadata": {},
   "outputs": [
    {
     "data": {
      "image/png": "[encoded data removed]",
      "text/plain": [
       "<Figure size 360x360 with 1 Axes>"
      ]
     },
     "metadata": {
      "needs_background": "light"
     },
     "output_type": "display_data"
    },
    {
     "name": "stdout",
     "output_type": "stream",
     "text": [
      "happiness\n"
     ]
    }
   ],
   "source": [
    "plotImages(img_data[600])\n",
    "print(label_text[labels[600]])"
   ]
  },
  {
   "cell_type": "code",
   "execution_count": 19,
   "metadata": {},
   "outputs": [],
   "source": [
    "def create_model(optim):\n",
    "    input_shape=(48,48,3)\n",
    "\n",
    "    model = Sequential()\n",
    "    model.add(Conv2D(6, (5, 5), input_shape=input_shape, padding='same', activation = 'relu'))\n",
    "    model.add(MaxPooling2D(pool_size=(2, 2)))\n",
    "\n",
    "    model.add(Conv2D(16, (5, 5), padding='same', activation = 'relu'))\n",
    "    model.add(Activation('relu'))\n",
    "    model.add(MaxPooling2D(pool_size=(2, 2)))\n",
    "\n",
    "    model.add(Conv2D(64, (3, 3), activation = 'relu'))\n",
    "    model.add(MaxPooling2D(pool_size=(2, 2)))\n",
    "\n",
    "    model.add(Flatten())\n",
    "    model.add(Dense(128, activation = 'relu'))\n",
    "    model.add(Dropout(0.5))\n",
    "    model.add(Dense(7, activation = 'softmax'))\n",
    "\n",
    "    model.compile(loss='categorical_crossentropy', metrics=['accuracy'],optimizer=optim)\n",
    "    \n",
    "    return model"
   ]
  },
  {
   "cell_type": "code",
   "execution_count": 21,
   "metadata": {},
   "outputs": [],
   "source": [
    "from tensorflow.keras.preprocessing.image import ImageDataGenerator\n",
    "from tensorflow.keras.callbacks import ModelCheckpoint, EarlyStopping, ReduceLROnPlateau\n",
    "from sklearn.model_selection import cross_val_predict, cross_val_score"
   ]
  },
  {
   "cell_type": "code",
   "execution_count": 22,
   "metadata": {},
   "outputs": [],
   "source": [
    "aug = ImageDataGenerator(rotation_range=25, width_shift_range=0.1,\n",
    "                        height_shift_range=0.1, shear_range=0.2,\n",
    "                        zoom_range=0.2, horizontal_flip=True,\n",
    "                        fill_mode='nearrest')"
   ]
  },
  {
   "cell_type": "code",
   "execution_count": 26,
   "metadata": {},
   "outputs": [],
   "source": [
    "from tensorflow.keras.optimizers import *"
   ]
  },
  {
   "cell_type": "code",
   "execution_count": 27,
   "metadata": {},
   "outputs": [],
   "source": [
    "x,y = shuffle(img_data,Y,random_state = 3)"
   ]
  },
  {
   "cell_type": "code",
   "execution_count": 28,
   "metadata": {},
   "outputs": [],
   "source": [
    "X_train, X_test, y_train, y_test = train_test_split(x, y, test_size=0.2, random_state=2)\n",
    "x_test=X_test"
   ]
  },
  {
   "cell_type": "code",
   "execution_count": null,
   "metadata": {},
   "outputs": [],
   "source": []
  },
  {
   "cell_type": "code",
   "execution_count": 29,
   "metadata": {},
   "outputs": [
    {
     "name": "stdout",
     "output_type": "stream",
     "text": [
      "981\n"
     ]
    },
    {
     "data": {
      "text/plain": [
       "array([[1., 0., 0., ..., 0., 0., 0.],\n",
       "       [1., 0., 0., ..., 0., 0., 0.],\n",
       "       [1., 0., 0., ..., 0., 0., 0.],\n",
       "       ...,\n",
       "       [0., 0., 0., ..., 0., 0., 1.],\n",
       "       [0., 0., 0., ..., 0., 0., 1.],\n",
       "       [0., 1., 0., ..., 0., 0., 0.]], dtype=float32)"
      ]
     },
     "execution_count": 29,
     "metadata": {},
     "output_type": "execute_result"
    }
   ],
   "source": [
    "Y = utils.to_categorical(labels, len(dataset)-1)\n",
    "print(len(Y))\n",
    "Y"
   ]
  },
  {
   "cell_type": "code",
   "execution_count": 30,
   "metadata": {},
   "outputs": [
    {
     "data": {
      "text/plain": [
       "981"
      ]
     },
     "execution_count": 30,
     "metadata": {},
     "output_type": "execute_result"
    }
   ],
   "source": [
    "len(img_data)"
   ]
  },
  {
   "cell_type": "code",
   "execution_count": 31,
   "metadata": {},
   "outputs": [
    {
     "data": {
      "image/png": "[encoded data removed]",
      "text/plain": [
       "<Figure size 360x360 with 1 Axes>"
      ]
     },
     "metadata": {
      "needs_background": "light"
     },
     "output_type": "display_data"
    },
    {
     "name": "stdout",
     "output_type": "stream",
     "text": [
      "[0. 0. 0. 0. 0. 0. 1.]\n"
     ]
    }
   ],
   "source": [
    "plotImages(x[0])\n",
    "print(y[0])"
   ]
  },
  {
   "cell_type": "code",
   "execution_count": 32,
   "metadata": {},
   "outputs": [],
   "source": [
    "# from sklearn.model_selection import KFold"
   ]
  },
  {
   "cell_type": "code",
   "execution_count": 33,
   "metadata": {},
   "outputs": [],
   "source": [
    "# kf = KFold(n_splits=5, shuffle=False)"
   ]
  },
  {
   "cell_type": "code",
   "execution_count": 34,
   "metadata": {},
   "outputs": [],
   "source": [
    "aug.fit(X_train)"
   ]
  },
  {
   "cell_type": "code",
   "execution_count": 35,
   "metadata": {},
   "outputs": [],
   "source": [
    "early_stopping = EarlyStopping(\n",
    "    monitor='val_accuracy',\n",
    "    min_delta=0.00005,\n",
    "    patience=11,\n",
    "    verbose=1,\n",
    "    restore_best_weights=True,\n",
    ")\n",
    "\n",
    "lr_scheduler = ReduceLROnPlateau(\n",
    "    monitor='val_accuracy',\n",
    "    factor=0.5,\n",
    "    patience=7,\n",
    "    min_lr=1e-7,\n",
    "    verbose=1,\n",
    ")\n",
    "\n",
    "callbacks = [\n",
    "    early_stopping,\n",
    "    lr_scheduler,\n",
    "]"
   ]
  },
  {
   "cell_type": "code",
   "execution_count": null,
   "metadata": {},
   "outputs": [],
   "source": []
  },
  {
   "cell_type": "code",
   "execution_count": 36,
   "metadata": {},
   "outputs": [],
   "source": [
    "batch_size = 32 #batch size of 32 performs the best.\n",
    "epochs = 100\n",
    "optims = [\n",
    "    Nadam(learning_rate=0.001, beta_1=0.9, beta_2=0.999, epsilon=1e-07, name='Nadam'),\n",
    "    Adam(0.001),\n",
    "]\n",
    "\n",
    "\n",
    "model = create_model(optims[1]) \n",
    "\n",
    "\n"
   ]
  },
  {
   "cell_type": "code",
   "execution_count": 37,
   "metadata": {},
   "outputs": [
    {
     "name": "stdout",
     "output_type": "stream",
     "text": [
      "Model: \"sequential\"\n",
      "_________________________________________________________________\n",
      "Layer (type)                 Output Shape              Param #   \n",
      "=================================================================\n",
      "conv2d (Conv2D)              (None, 48, 48, 6)         456       \n",
      "_________________________________________________________________\n",
      "max_pooling2d (MaxPooling2D) (None, 24, 24, 6)         0         \n",
      "_________________________________________________________________\n",
      "conv2d_1 (Conv2D)            (None, 24, 24, 16)        2416      \n",
      "_________________________________________________________________\n",
      "activation (Activation)      (None, 24, 24, 16)        0         \n",
      "_________________________________________________________________\n",
      "max_pooling2d_1 (MaxPooling2 (None, 12, 12, 16)        0         \n",
      "_________________________________________________________________\n",
      "conv2d_2 (Conv2D)            (None, 10, 10, 64)        9280      \n",
      "_________________________________________________________________\n",
      "max_pooling2d_2 (MaxPooling2 (None, 5, 5, 64)          0         \n",
      "_________________________________________________________________\n",
      "flatten (Flatten)            (None, 1600)              0         \n",
      "_________________________________________________________________\n",
      "dense (Dense)                (None, 128)               204928    \n",
      "_________________________________________________________________\n",
      "dropout (Dropout)            (None, 128)               0         \n",
      "_________________________________________________________________\n",
      "dense_1 (Dense)              (None, 7)                 903       \n",
      "=================================================================\n",
      "Total params: 217,983\n",
      "Trainable params: 217,983\n",
      "Non-trainable params: 0\n",
      "_________________________________________________________________\n"
     ]
    }
   ],
   "source": [
    "model.summary()"
   ]
  },
  {
   "cell_type": "code",
   "execution_count": 38,
   "metadata": {},
   "outputs": [
    {
     "name": "stdout",
     "output_type": "stream",
     "text": [
      "Epoch 1/100\n",
      "23/23 - 1s - loss: 1.8314 - accuracy: 0.2567 - val_loss: 1.7486 - val_accuracy: 0.2532\n",
      "Epoch 2/100\n",
      "23/23 - 1s - loss: 1.7708 - accuracy: 0.3121 - val_loss: 1.6767 - val_accuracy: 0.3165\n",
      "Epoch 3/100\n",
      "23/23 - 1s - loss: 1.6179 - accuracy: 0.4043 - val_loss: 1.4187 - val_accuracy: 0.4557\n",
      "Epoch 4/100\n",
      "23/23 - 1s - loss: 1.3359 - accuracy: 0.5092 - val_loss: 1.1353 - val_accuracy: 0.5823\n",
      "Epoch 5/100\n",
      "23/23 - 1s - loss: 1.1482 - accuracy: 0.5589 - val_loss: 0.9913 - val_accuracy: 0.6329\n",
      "Epoch 6/100\n",
      "23/23 - 1s - loss: 0.9731 - accuracy: 0.6369 - val_loss: 0.8014 - val_accuracy: 0.7722\n",
      "Epoch 7/100\n",
      "23/23 - 1s - loss: 0.8787 - accuracy: 0.6723 - val_loss: 0.7090 - val_accuracy: 0.7848\n",
      "Epoch 8/100\n",
      "23/23 - 1s - loss: 0.8417 - accuracy: 0.6950 - val_loss: 0.6416 - val_accuracy: 0.7342\n",
      "Epoch 9/100\n",
      "23/23 - 1s - loss: 0.6714 - accuracy: 0.7433 - val_loss: 0.5970 - val_accuracy: 0.8228\n",
      "Epoch 10/100\n",
      "23/23 - 1s - loss: 0.6323 - accuracy: 0.7702 - val_loss: 0.5719 - val_accuracy: 0.8861\n",
      "Epoch 11/100\n",
      "23/23 - 1s - loss: 0.5814 - accuracy: 0.8099 - val_loss: 0.5362 - val_accuracy: 0.8608\n",
      "Epoch 12/100\n",
      "23/23 - 1s - loss: 0.5713 - accuracy: 0.8028 - val_loss: 0.4723 - val_accuracy: 0.9241\n",
      "Epoch 13/100\n",
      "23/23 - 1s - loss: 0.4466 - accuracy: 0.8610 - val_loss: 0.4912 - val_accuracy: 0.8987\n",
      "Epoch 14/100\n",
      "23/23 - 1s - loss: 0.4108 - accuracy: 0.8624 - val_loss: 0.3804 - val_accuracy: 0.9494\n",
      "Epoch 15/100\n",
      "23/23 - 1s - loss: 0.3690 - accuracy: 0.8624 - val_loss: 0.4051 - val_accuracy: 0.9367\n",
      "Epoch 16/100\n",
      "23/23 - 1s - loss: 0.3296 - accuracy: 0.8879 - val_loss: 0.3835 - val_accuracy: 0.9367\n",
      "Epoch 17/100\n",
      "23/23 - 1s - loss: 0.3513 - accuracy: 0.8837 - val_loss: 0.3839 - val_accuracy: 0.9241\n",
      "Epoch 18/100\n",
      "23/23 - 1s - loss: 0.2756 - accuracy: 0.9135 - val_loss: 0.4362 - val_accuracy: 0.9241\n",
      "Epoch 19/100\n",
      "23/23 - 1s - loss: 0.2753 - accuracy: 0.9191 - val_loss: 0.3398 - val_accuracy: 0.9367\n",
      "Epoch 20/100\n",
      "23/23 - 1s - loss: 0.4643 - accuracy: 0.8184 - val_loss: 0.3630 - val_accuracy: 0.9747\n",
      "Epoch 21/100\n",
      "23/23 - 1s - loss: 0.3619 - accuracy: 0.8922 - val_loss: 0.3340 - val_accuracy: 0.9367\n",
      "Epoch 22/100\n",
      "23/23 - 1s - loss: 0.2598 - accuracy: 0.9163 - val_loss: 0.3423 - val_accuracy: 0.9747\n",
      "Epoch 23/100\n",
      "23/23 - 1s - loss: 0.2132 - accuracy: 0.9319 - val_loss: 0.3287 - val_accuracy: 0.9747\n",
      "Epoch 24/100\n",
      "23/23 - 1s - loss: 0.2056 - accuracy: 0.9333 - val_loss: 0.3572 - val_accuracy: 0.9494\n",
      "Epoch 25/100\n",
      "23/23 - 1s - loss: 0.2133 - accuracy: 0.9433 - val_loss: 0.3186 - val_accuracy: 0.9747\n",
      "Epoch 26/100\n",
      "23/23 - 1s - loss: 0.1757 - accuracy: 0.9546 - val_loss: 0.3395 - val_accuracy: 0.9747\n",
      "Epoch 27/100\n",
      "\n",
      "Epoch 00027: ReduceLROnPlateau reducing learning rate to 0.0005000000237487257.\n",
      "23/23 - 1s - loss: 0.1662 - accuracy: 0.9532 - val_loss: 0.3020 - val_accuracy: 0.9747\n",
      "Epoch 28/100\n",
      "23/23 - 1s - loss: 0.1591 - accuracy: 0.9589 - val_loss: 0.3420 - val_accuracy: 0.9747\n",
      "Epoch 29/100\n",
      "23/23 - 1s - loss: 0.1355 - accuracy: 0.9603 - val_loss: 0.3498 - val_accuracy: 0.9747\n",
      "Epoch 30/100\n",
      "23/23 - 1s - loss: 0.1412 - accuracy: 0.9560 - val_loss: 0.3421 - val_accuracy: 0.9747\n",
      "Epoch 31/100\n",
      "Restoring model weights from the end of the best epoch.\n",
      "23/23 - 1s - loss: 0.1216 - accuracy: 0.9702 - val_loss: 0.3486 - val_accuracy: 0.9747\n",
      "Epoch 00031: early stopping\n"
     ]
    },
    {
     "data": {
      "text/plain": [
       "<tensorflow.python.keras.callbacks.History at 0x14fc93be5f8>"
      ]
     },
     "execution_count": 38,
     "metadata": {},
     "output_type": "execute_result"
    }
   ],
   "source": [
    "model.fit(x=X_train, y= y_train, validation_split=0.1, batch_size=32, \n",
    "          epochs=100, shuffle=True, verbose=2, callbacks=callbacks \n",
    "         )"
   ]
  },
  {
   "cell_type": "code",
   "execution_count": null,
   "metadata": {},
   "outputs": [],
   "source": []
  },
  {
   "cell_type": "code",
   "execution_count": null,
   "metadata": {},
   "outputs": [],
   "source": []
  },
  {
   "cell_type": "code",
   "execution_count": 39,
   "metadata": {},
   "outputs": [
    {
     "name": "stdout",
     "output_type": "stream",
     "text": [
      "WARNING:tensorflow:From <ipython-input-39-25e6cc6e3d40>:2: Sequential.predict_classes (from tensorflow.python.keras.engine.sequential) is deprecated and will be removed after 2021-01-01.\n",
      "Instructions for updating:\n",
      "Please use instead:* `np.argmax(model.predict(x), axis=-1)`,   if your model does multi-class classification   (e.g. if it uses a `softmax` last-layer activation).* `(model.predict(x) > 0.5).astype(\"int32\")`,   if your model does binary classification   (e.g. if it uses a `sigmoid` last-layer activation).\n"
     ]
    }
   ],
   "source": [
    "from sklearn.metrics import confusion_matrix\n",
    "results = model.predict_classes(X_test)\n",
    "cm = confusion_matrix(np.where(y_test == 1)[1], results)"
   ]
  },
  {
   "cell_type": "code",
   "execution_count": 40,
   "metadata": {},
   "outputs": [],
   "source": [
    "import seaborn as sns\n",
    "import pandas as pd"
   ]
  },
  {
   "cell_type": "code",
   "execution_count": 41,
   "metadata": {},
   "outputs": [],
   "source": [
    "label_mapdisgust = ['anger','contempt','disgust','fear','happy','sadness','surprise']"
   ]
  },
  {
   "cell_type": "code",
   "execution_count": 42,
   "metadata": {},
   "outputs": [],
   "source": [
    "cm_df = pd.DataFrame(cm, index = label_mapdisgust,\n",
    "                     columns = label_mapdisgust\n",
    "                    )"
   ]
  },
  {
   "cell_type": "code",
   "execution_count": 43,
   "metadata": {},
   "outputs": [
    {
     "data": {
      "image/png": "[encoded data removed]",
      "text/plain": [
       "<Figure size 360x360 with 1 Axes>"
      ]
     },
     "metadata": {
      "needs_background": "light"
     },
     "output_type": "display_data"
    }
   ],
   "source": [
    "plt.figure(figsize = (5,5))\n",
    "sns.heatmap(cm, annot = True,cmap='Greys',cbar=False,linewidth=2,fmt='d')\n",
    "plt.title('CNN Emotion Classify')\n",
    "plt.ylabel('True class')\n",
    "plt.xlabel('Prediction class')\n",
    "plt.show()"
   ]
  },
  {
   "cell_type": "code",
   "execution_count": null,
   "metadata": {},
   "outputs": [],
   "source": []
  },
  {
   "cell_type": "code",
   "execution_count": 44,
   "metadata": {},
   "outputs": [
    {
     "name": "stdout",
     "output_type": "stream",
     "text": [
      "Test Loss: 0.30213403701782227\n",
      "Test accuracy: 0.8984771370887756\n",
      "(1, 48, 48, 3)\n",
      "[[8.39535713e-01 7.76557578e-03 1.24645315e-01 1.83928394e-04\n",
      "  2.53597368e-03 2.52125170e-02 1.21115154e-04]]\n",
      "[0]\n",
      "[[1. 0. 0. 0. 0. 0. 0.]]\n"
     ]
    }
   ],
   "source": [
    "score = model.evaluate(X_test, y_test, verbose=0)\n",
    "print('Test Loss:', score[0])\n",
    "print('Test accuracy:', score[1])\n",
    "\n",
    "test_image = X_test[3:4]\n",
    "print (test_image.shape)\n",
    "\n",
    "print(model.predict(test_image))\n",
    "print(model.predict_classes(test_image))\n",
    "print(y_test[3:4])\n",
    "\n",
    "#predict\n",
    "y_pred = model.predict(X_test)"
   ]
  },
  {
   "cell_type": "code",
   "execution_count": 45,
   "metadata": {},
   "outputs": [],
   "source": [
    " from sklearn.metrics import multilabel_confusion_matrix\n"
   ]
  },
  {
   "cell_type": "code",
   "execution_count": 46,
   "metadata": {
    "scrolled": true
   },
   "outputs": [
    {
     "data": {
      "text/plain": [
       "array([[[168,   6],\n",
       "        [  3,  20]],\n",
       "\n",
       "       [[188,   0],\n",
       "        [  6,   3]],\n",
       "\n",
       "       [[165,   1],\n",
       "        [  0,  31]],\n",
       "\n",
       "       [[180,   0],\n",
       "        [  8,   9]],\n",
       "\n",
       "       [[158,   1],\n",
       "        [  0,  38]],\n",
       "\n",
       "       [[176,   0],\n",
       "        [ 11,  10]],\n",
       "\n",
       "       [[139,   0],\n",
       "        [  1,  57]]], dtype=int64)"
      ]
     },
     "execution_count": 46,
     "metadata": {},
     "output_type": "execute_result"
    }
   ],
   "source": [
    "y_pred = (y_pred>0.5)\n",
    "multilabel_confusion_matrix(y_test, y_pred )"
   ]
  },
  {
   "cell_type": "code",
   "execution_count": 47,
   "metadata": {},
   "outputs": [
    {
     "name": "stdout",
     "output_type": "stream",
     "text": [
      "number of images in anger =  135\n",
      "number of images in contempt =  54\n",
      "number of images in disgust =  177\n",
      "number of images in fear =  75\n",
      "number of images in happy =  207\n",
      "number of images in sadness =  84\n",
      "number of images in surprise =  249\n"
     ]
    }
   ],
   "source": [
    "for dataset in data_dir_list:\n",
    "    img_list = os.listdir(data_path+'/'+dataset)\n",
    "    print('number of images in '+str(dataset)+' = ',len(img_list))"
   ]
  },
  {
   "cell_type": "code",
   "execution_count": 48,
   "metadata": {
    "scrolled": false
   },
   "outputs": [
    {
     "data": {
      "image/png": "[encoded data removed]",
      "text/plain": [
       "<Figure size 360x360 with 1 Axes>"
      ]
     },
     "metadata": {
      "needs_background": "light"
     },
     "output_type": "display_data"
    },
    {
     "name": "stdout",
     "output_type": "stream",
     "text": [
      "anger\n"
     ]
    }
   ],
   "source": [
    "plotImages(X_test[3])\n",
    "ans = int(model.predict_classes(test_image)[0])\n",
    "print(label_text[ans])"
   ]
  },
  {
   "cell_type": "code",
   "execution_count": 49,
   "metadata": {},
   "outputs": [],
   "source": [
    "if os.path.isfile('model.h5') is False:\n",
    "    model.save('model.h5')"
   ]
  },
  {
   "cell_type": "code",
   "execution_count": 50,
   "metadata": {},
   "outputs": [
    {
     "name": "stdout",
     "output_type": "stream",
     "text": [
      "(1, 48, 48, 3)\n"
     ]
    },
    {
     "data": {
      "image/png": "[encoded data removed]",
      "text/plain": [
       "<Figure size 360x360 with 1 Axes>"
      ]
     },
     "metadata": {
      "needs_background": "light"
     },
     "output_type": "display_data"
    }
   ],
   "source": [
    "test_img = X_test[1:2]\n",
    "print(test_img.shape)\n",
    "plotImages(X_test[1])"
   ]
  },
  {
   "cell_type": "code",
   "execution_count": 51,
   "metadata": {},
   "outputs": [
    {
     "data": {
      "text/plain": [
       "array([5], dtype=int64)"
      ]
     },
     "execution_count": 51,
     "metadata": {},
     "output_type": "execute_result"
    }
   ],
   "source": [
    "model.predict_classes(test_img)"
   ]
  },
  {
   "cell_type": "code",
   "execution_count": 52,
   "metadata": {},
   "outputs": [
    {
     "data": {
      "text/plain": [
       "array([[0., 0., 0., 0., 0., 1., 0.]], dtype=float32)"
      ]
     },
     "execution_count": 52,
     "metadata": {},
     "output_type": "execute_result"
    }
   ],
   "source": [
    "y_test[1:2]"
   ]
  },
  {
   "cell_type": "code",
   "execution_count": 53,
   "metadata": {},
   "outputs": [
    {
     "data": {
      "text/plain": [
       "[]"
      ]
     },
     "execution_count": 53,
     "metadata": {},
     "output_type": "execute_result"
    }
   ],
   "source": [
    "xx = []\n",
    "xx"
   ]
  },
  {
   "cell_type": "code",
   "execution_count": 54,
   "metadata": {},
   "outputs": [],
   "source": [
    "import imageio"
   ]
  },
  {
   "cell_type": "code",
   "execution_count": 56,
   "metadata": {},
   "outputs": [],
   "source": [
    "pic = imageio.imread('ex7.jpeg')"
   ]
  },
  {
   "cell_type": "code",
   "execution_count": 57,
   "metadata": {},
   "outputs": [
    {
     "data": {
      "text/plain": [
       "(184, 273, 3)"
      ]
     },
     "execution_count": 57,
     "metadata": {},
     "output_type": "execute_result"
    }
   ],
   "source": [
    "pic.shape"
   ]
  },
  {
   "cell_type": "code",
   "execution_count": 58,
   "metadata": {},
   "outputs": [],
   "source": [
    "pic = cv2.resize(pic,(48,48))"
   ]
  },
  {
   "cell_type": "code",
   "execution_count": 59,
   "metadata": {},
   "outputs": [],
   "source": [
    "xx.append(pic)"
   ]
  },
  {
   "cell_type": "code",
   "execution_count": 60,
   "metadata": {},
   "outputs": [],
   "source": [
    "xx = np.array(xx)\n",
    "xx = xx.astype('float32')\n",
    "xx = xx/255"
   ]
  },
  {
   "cell_type": "code",
   "execution_count": 61,
   "metadata": {},
   "outputs": [
    {
     "data": {
      "text/plain": [
       "(1, 48, 48, 3)"
      ]
     },
     "execution_count": 61,
     "metadata": {},
     "output_type": "execute_result"
    }
   ],
   "source": [
    "xx.shape"
   ]
  },
  {
   "cell_type": "code",
   "execution_count": 62,
   "metadata": {
    "scrolled": true
   },
   "outputs": [
    {
     "data": {
      "text/plain": [
       "0"
      ]
     },
     "execution_count": 62,
     "metadata": {},
     "output_type": "execute_result"
    }
   ],
   "source": [
    "model.predict_classes(xx)[0]"
   ]
  },
  {
   "cell_type": "code",
   "execution_count": 63,
   "metadata": {},
   "outputs": [
    {
     "data": {
      "image/png": "[encoded data removed]",
      "text/plain": [
       "<Figure size 360x360 with 1 Axes>"
      ]
     },
     "metadata": {
      "needs_background": "light"
     },
     "output_type": "display_data"
    }
   ],
   "source": [
    "plotImages(pic)"
   ]
  },
  {
   "cell_type": "code",
   "execution_count": 64,
   "metadata": {},
   "outputs": [
    {
     "data": {
      "text/plain": [
       "['anger', 'contempt', 'disgust', 'fear', 'happy', 'sadness', 'surprise']"
      ]
     },
     "execution_count": 64,
     "metadata": {},
     "output_type": "execute_result"
    }
   ],
   "source": [
    "data_dir_list"
   ]
  }
 ],
 "metadata": {
  "kernelspec": {
   "display_name": "Python 3 (ipykernel)",
   "language": "python",
   "name": "python3"
  },
  "language_info": {
   "codemirror_mode": {
    "name": "ipython",
    "version": 3
   },
   "file_extension": ".py",
   "mimetype": "text/x-python",
   "name": "python",
   "nbconvert_exporter": "python",
   "pygments_lexer": "ipython3",
   "version": "3.11.5"
  }
 },
 "nbformat": 4,
 "nbformat_minor": 4
}
